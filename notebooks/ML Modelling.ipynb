{
 "cells": [
  {
   "cell_type": "code",
   "execution_count": 1,
   "metadata": {},
   "outputs": [
    {
     "name": "stderr",
     "output_type": "stream",
     "text": [
      "/home/nacho/anaconda3/lib/python3.6/site-packages/sklearn/cross_validation.py:41: DeprecationWarning: This module was deprecated in version 0.18 in favor of the model_selection module into which all the refactored classes and functions are moved. Also note that the interface of the new CV iterators are different from that of this module. This module will be removed in 0.20.\n",
      "  \"This module will be removed in 0.20.\", DeprecationWarning)\n"
     ]
    }
   ],
   "source": [
    "# Hide deprecation warnings\n",
    "import warnings\n",
    "warnings.filterwarnings('ignore')\n",
    "\n",
    "# Common imports\n",
    "import numpy as np\n",
    "import pandas as pd\n",
    "from sklearn.base import BaseEstimator, TransformerMixin\n",
    "from sklearn.preprocessing import LabelEncoder\n",
    "from sklearn.metrics import confusion_matrix\n",
    "from sklearn.linear_model import LogisticRegression\n",
    "from sklearn.ensemble import RandomForestClassifier\n",
    "from sklearn.ensemble import AdaBoostClassifier\n",
    "from sklearn.ensemble import GradientBoostingClassifier\n",
    "from sklearn.linear_model import SGDClassifier\n",
    "import xgboost as xgb\n",
    "from sklearn.neighbors import KNeighborsClassifier\n",
    "from sklearn.svm import SVC\n",
    "from sklearn.ensemble import VotingClassifier\n",
    "from sklearn.tree import DecisionTreeClassifier\n",
    "from sklearn.model_selection import GridSearchCV\n",
    "from sklearn.model_selection import cross_val_score\n",
    "from sklearn.model_selection import cross_validate\n",
    "from sklearn.model_selection import cross_val_predict\n",
    "from sklearn import preprocessing\n",
    "import pickle\n",
    "\n",
    "# To plot pretty figures\n",
    "%matplotlib inline\n",
    "import matplotlib\n",
    "import matplotlib.pyplot as plt\n",
    "plt.rcParams['axes.labelsize'] = 14\n",
    "plt.rcParams['xtick.labelsize'] = 12\n",
    "plt.rcParams['ytick.labelsize'] = 12\n",
    "\n",
    "# To format floats\n",
    "from IPython.display import display\n",
    "pd.set_option('display.float_format', lambda x: '%.5f' % x)"
   ]
  },
  {
   "cell_type": "code",
   "execution_count": 4,
   "metadata": {},
   "outputs": [],
   "source": [
    "#Load all the csv files into Pandas dataframes\n",
    "\n",
    "X_train = np.loadtxt(open(\"../data/interim/X_train.csv\", \"rb\"), delimiter=\",\")\n",
    "X_test = np.loadtxt(open(\"../data/interim/X_test.csv\", \"rb\"), delimiter=\",\")\n",
    "df_labels = pd.read_csv('../data/raw/train_labels.csv')\n",
    "SubmissionFormat = pd.read_csv('../data/raw/SubmissionFormat.csv')\n",
    "\n",
    "y_train = df_labels.status_group.values"
   ]
  },
  {
   "cell_type": "markdown",
   "metadata": {},
   "source": [
    "#### Let's create a dumb model that always predict the most common label"
   ]
  },
  {
   "cell_type": "code",
   "execution_count": 7,
   "metadata": {
    "collapsed": true
   },
   "outputs": [],
   "source": [
    "class AlwaysFunctionalClassifier(BaseEstimator):\n",
    "    def fit(self, X, y=None):\n",
    "        pass\n",
    "    def predict(self, X):\n",
    "        return ['functional'] * len(X)"
   ]
  },
  {
   "cell_type": "markdown",
   "metadata": {},
   "source": [
    "#### Compare models without optimization"
   ]
  },
  {
   "cell_type": "code",
   "execution_count": 8,
   "metadata": {},
   "outputs": [
    {
     "name": "stdout",
     "output_type": "stream",
     "text": [
      "Dumb Model\n",
      "CV accuracy: 0.543 +/- 0.007\n",
      "----------------\n",
      "SGD Classifier\n",
      "CV accuracy: 0.730 +/- 0.004\n",
      "----------------\n",
      "Random Forests\n",
      "CV accuracy: 0.771 +/- 0.005\n",
      "----------------\n",
      "k-Nearest Neighbors\n",
      "CV accuracy: 0.780 +/- 0.005\n",
      "----------------\n",
      "Softmax Regression\n",
      "CV accuracy: 0.740 +/- 0.007\n",
      "----------------\n",
      "SVM\n",
      "CV accuracy: 0.745 +/- 0.005\n",
      "----------------\n",
      "Decission Trees\n",
      "CV accuracy: 0.732 +/- 0.007\n",
      "----------------\n",
      "AdaBoost\n",
      "CV accuracy: 0.708 +/- 0.003\n",
      "----------------\n",
      "Gradient Boost\n",
      "CV accuracy: 0.760 +/- 0.003\n",
      "----------------\n"
     ]
    }
   ],
   "source": [
    "models = {\n",
    "    \"Dumb Model\": AlwaysFunctionalClassifier(),\n",
    "    \"SGD Classifier\": SGDClassifier(),\n",
    "    \"Random Forests\": RandomForestClassifier(),\n",
    "    \"k-Nearest Neighbors\": KNeighborsClassifier(),\n",
    "    \"Softmax Regression\": LogisticRegression(multi_class=\"multinomial\",solver=\"lbfgs\"),\n",
    "    \"SVM\": SVC(decision_function_shape=\"ovr\"),\n",
    "    \"Decission Trees\": DecisionTreeClassifier(),\n",
    "    \"AdaBoost\":AdaBoostClassifier(algorithm=\"SAMME.R\"),\n",
    "    \"Gradient Boost\":GradientBoostingClassifier()\n",
    "}\n",
    "\n",
    "results = []\n",
    "names = []\n",
    "\n",
    "for k, v in models.items():\n",
    "    cv_scores = cross_val_score(estimator=v, X=X_train, y=y_train, cv=10, n_jobs=1, scoring='accuracy')\n",
    "    \n",
    "    results.append(cv_scores)\n",
    "    names.append(k)\n",
    "\n",
    "    print(k)\n",
    "    print('CV accuracy: %.3f +/- %.3f' % (np.mean(cv_scores), np.std(cv_scores)))\n",
    "    print('----------------')"
   ]
  },
  {
   "cell_type": "code",
   "execution_count": 9,
   "metadata": {},
   "outputs": [
    {
     "data": {
      "image/png": "[encoded data removed]",
      "text/plain": [
       "<matplotlib.figure.Figure at 0x7f5aa818e080>"
      ]
     },
     "metadata": {},
     "output_type": "display_data"
    }
   ],
   "source": [
    "fig = plt.figure(figsize=(16, 12))\n",
    "fig.suptitle('Algorithm Comparison')\n",
    "ax = fig.add_subplot(111)\n",
    "plt.boxplot(results)\n",
    "ax.set_xticklabels(names)\n",
    "plt.show()"
   ]
  },
  {
   "cell_type": "markdown",
   "metadata": {},
   "source": [
    "#### Let's try to optimize some of this models"
   ]
  },
  {
   "cell_type": "markdown",
   "metadata": {},
   "source": [
    "#### Random Forests\n",
    "Initial performance"
   ]
  },
  {
   "cell_type": "code",
   "execution_count": 5,
   "metadata": {},
   "outputs": [
    {
     "data": {
      "text/plain": [
       "array([ 0.76333333,  0.76787879,  0.76707071])"
      ]
     },
     "execution_count": 5,
     "metadata": {},
     "output_type": "execute_result"
    }
   ],
   "source": [
    "forest_clf = RandomForestClassifier()\n",
    "cross_val_score(forest_clf, X_train, y_train, cv=3, scoring=\"accuracy\")"
   ]
  },
  {
   "cell_type": "markdown",
   "metadata": {},
   "source": [
    "Random Forests Confusion Matrix"
   ]
  },
  {
   "cell_type": "code",
   "execution_count": 25,
   "metadata": {
    "collapsed": true
   },
   "outputs": [],
   "source": [
    "y_train_pred = cross_val_predict(forest_clf, X_train, y_train, cv=3)"
   ]
  },
  {
   "cell_type": "code",
   "execution_count": 26,
   "metadata": {},
   "outputs": [
    {
     "data": {
      "image/png": "[encoded data removed]",
      "text/plain": [
       "<matplotlib.figure.Figure at 0x7fe46036ec50>"
      ]
     },
     "metadata": {},
     "output_type": "display_data"
    }
   ],
   "source": [
    "conf_mx = confusion_matrix(y_train, y_train_pred)\n",
    "\n",
    "fig, ax = plt.subplots(figsize=(8, 8))\n",
    "ax.matshow(conf_mx, cmap=plt.cm.Blues, alpha=0.3)\n",
    "for i in range(conf_mx.shape[0]):\n",
    "    for j in range(conf_mx.shape[1]):\n",
    "        perc = str(round((conf_mx[i, j]/conf_mx.sum())*100,2)) + \"%\"\n",
    "        ax.text(x=j, y=i, s=str(conf_mx[i, j])+\"\\n\\n\"+perc, va='center', ha='center')\n",
    "\n",
    "plt.xlabel('predicted label')\n",
    "plt.ylabel('true label')\n",
    "\n",
    "plt.tight_layout()\n",
    "plt.show()"
   ]
  },
  {
   "cell_type": "code",
   "execution_count": 6,
   "metadata": {
    "scrolled": true
   },
   "outputs": [
    {
     "name": "stdout",
     "output_type": "stream",
     "text": [
      "Fitting 3 folds for each of 16 candidates, totalling 48 fits\n",
      "[CV] max_depth=30, max_features=5, min_samples_leaf=1, n_estimators=80, n_jobs=-1 \n",
      "[CV] max_depth=30, max_features=5, min_samples_leaf=1, n_estimators=80, n_jobs=-1 \n",
      "[CV] max_depth=30, max_features=5, min_samples_leaf=1, n_estimators=80, n_jobs=-1 \n",
      "[CV] max_depth=30, max_features=5, min_samples_leaf=1, n_estimators=300, n_jobs=-1 \n",
      "[CV] max_depth=30, max_features=5, min_samples_leaf=1, n_estimators=300, n_jobs=-1 \n",
      "[CV] max_depth=30, max_features=5, min_samples_leaf=1, n_estimators=300, n_jobs=-1 \n",
      "[CV] max_depth=30, max_features=5, min_samples_leaf=10, n_estimators=80, n_jobs=-1 \n",
      "[CV] max_depth=30, max_features=5, min_samples_leaf=10, n_estimators=80, n_jobs=-1 \n",
      "[CV]  max_depth=30, max_features=5, min_samples_leaf=1, n_estimators=80, n_jobs=-1, total=  28.2s\n",
      "[CV] max_depth=30, max_features=5, min_samples_leaf=10, n_estimators=80, n_jobs=-1 \n",
      "[CV]  max_depth=30, max_features=5, min_samples_leaf=10, n_estimators=80, n_jobs=-1, total=  28.2s\n",
      "[CV] max_depth=30, max_features=5, min_samples_leaf=10, n_estimators=300, n_jobs=-1 \n",
      "[CV]  max_depth=30, max_features=5, min_samples_leaf=10, n_estimators=80, n_jobs=-1, total=  28.8s\n",
      "[CV] max_depth=30, max_features=5, min_samples_leaf=10, n_estimators=300, n_jobs=-1 \n",
      "[CV]  max_depth=30, max_features=5, min_samples_leaf=1, n_estimators=80, n_jobs=-1, total=  29.5s\n",
      "[CV] max_depth=30, max_features=5, min_samples_leaf=10, n_estimators=300, n_jobs=-1 \n",
      "[CV]  max_depth=30, max_features=5, min_samples_leaf=1, n_estimators=80, n_jobs=-1, total=  29.6s\n",
      "[CV] max_depth=30, max_features=10, min_samples_leaf=1, n_estimators=80, n_jobs=-1 \n",
      "[CV]  max_depth=30, max_features=5, min_samples_leaf=10, n_estimators=80, n_jobs=-1, total=  29.8s\n",
      "[CV] max_depth=30, max_features=10, min_samples_leaf=1, n_estimators=80, n_jobs=-1 \n",
      "[CV]  max_depth=30, max_features=10, min_samples_leaf=1, n_estimators=80, n_jobs=-1, total= 1.0min\n",
      "[CV] max_depth=30, max_features=10, min_samples_leaf=1, n_estimators=80, n_jobs=-1 \n",
      "[CV]  max_depth=30, max_features=5, min_samples_leaf=1, n_estimators=300, n_jobs=-1, total= 1.8min\n",
      "[CV] max_depth=30, max_features=10, min_samples_leaf=1, n_estimators=300, n_jobs=-1 \n",
      "[CV]  max_depth=30, max_features=5, min_samples_leaf=1, n_estimators=300, n_jobs=-1, total= 1.9min\n",
      "[CV] max_depth=30, max_features=10, min_samples_leaf=1, n_estimators=300, n_jobs=-1 \n",
      "[CV]  max_depth=30, max_features=5, min_samples_leaf=1, n_estimators=300, n_jobs=-1, total= 1.9min\n",
      "[CV] max_depth=30, max_features=10, min_samples_leaf=1, n_estimators=300, n_jobs=-1 \n",
      "[CV]  max_depth=30, max_features=10, min_samples_leaf=1, n_estimators=80, n_jobs=-1, total=  58.7s\n",
      "[CV] max_depth=30, max_features=10, min_samples_leaf=10, n_estimators=80, n_jobs=-1 \n",
      "[CV]  max_depth=30, max_features=5, min_samples_leaf=10, n_estimators=300, n_jobs=-1, total= 1.6min\n",
      "[CV] max_depth=30, max_features=10, min_samples_leaf=10, n_estimators=80, n_jobs=-1 \n",
      "[CV]  max_depth=30, max_features=5, min_samples_leaf=10, n_estimators=300, n_jobs=-1, total= 1.7min\n",
      "[CV] max_depth=30, max_features=10, min_samples_leaf=10, n_estimators=80, n_jobs=-1 \n",
      "[CV]  max_depth=30, max_features=5, min_samples_leaf=10, n_estimators=300, n_jobs=-1, total= 1.7min\n",
      "[CV] max_depth=30, max_features=10, min_samples_leaf=10, n_estimators=300, n_jobs=-1 \n",
      "[CV]  max_depth=30, max_features=10, min_samples_leaf=1, n_estimators=80, n_jobs=-1, total=  53.0s\n",
      "[CV] max_depth=30, max_features=10, min_samples_leaf=10, n_estimators=300, n_jobs=-1 \n",
      "[CV]  max_depth=30, max_features=10, min_samples_leaf=10, n_estimators=80, n_jobs=-1, total=  50.9s\n",
      "[CV] max_depth=30, max_features=10, min_samples_leaf=10, n_estimators=300, n_jobs=-1 \n",
      "[CV]  max_depth=30, max_features=10, min_samples_leaf=10, n_estimators=80, n_jobs=-1, total=  49.6s\n",
      "[CV] max_depth=60, max_features=5, min_samples_leaf=1, n_estimators=80, n_jobs=-1 \n",
      "[CV]  max_depth=30, max_features=10, min_samples_leaf=10, n_estimators=80, n_jobs=-1, total=  49.8s\n",
      "[CV] max_depth=60, max_features=5, min_samples_leaf=1, n_estimators=80, n_jobs=-1 \n",
      "[CV]  max_depth=60, max_features=5, min_samples_leaf=1, n_estimators=80, n_jobs=-1, total=  34.0s\n",
      "[CV] max_depth=60, max_features=5, min_samples_leaf=1, n_estimators=80, n_jobs=-1 \n",
      "[CV]  max_depth=60, max_features=5, min_samples_leaf=1, n_estimators=80, n_jobs=-1, total=  34.5s\n",
      "[CV] max_depth=60, max_features=5, min_samples_leaf=1, n_estimators=300, n_jobs=-1 \n",
      "[CV]  max_depth=60, max_features=5, min_samples_leaf=1, n_estimators=80, n_jobs=-1, total=  32.0s\n",
      "[CV] max_depth=60, max_features=5, min_samples_leaf=1, n_estimators=300, n_jobs=-1 \n",
      "[CV]  max_depth=30, max_features=10, min_samples_leaf=10, n_estimators=300, n_jobs=-1, total= 3.1min\n",
      "[CV] max_depth=60, max_features=5, min_samples_leaf=1, n_estimators=300, n_jobs=-1 \n",
      "[CV]  max_depth=30, max_features=10, min_samples_leaf=1, n_estimators=300, n_jobs=-1, total= 3.5min\n",
      "[CV] max_depth=60, max_features=5, min_samples_leaf=10, n_estimators=80, n_jobs=-1 \n",
      "[CV]  max_depth=30, max_features=10, min_samples_leaf=1, n_estimators=300, n_jobs=-1, total= 3.6min\n",
      "[CV] max_depth=60, max_features=5, min_samples_leaf=10, n_estimators=80, n_jobs=-1 \n",
      "[CV]  max_depth=30, max_features=10, min_samples_leaf=1, n_estimators=300, n_jobs=-1, total= 3.6min\n",
      "[CV] max_depth=60, max_features=5, min_samples_leaf=10, n_estimators=80, n_jobs=-1 \n"
     ]
    },
    {
     "name": "stderr",
     "output_type": "stream",
     "text": [
      "[Parallel(n_jobs=-1)]: Done  25 tasks      | elapsed:  5.6min\n"
     ]
    },
    {
     "name": "stdout",
     "output_type": "stream",
     "text": [
      "[CV]  max_depth=30, max_features=10, min_samples_leaf=10, n_estimators=300, n_jobs=-1, total= 3.1min\n",
      "[CV] max_depth=60, max_features=5, min_samples_leaf=10, n_estimators=300, n_jobs=-1 \n",
      "[CV]  max_depth=60, max_features=5, min_samples_leaf=1, n_estimators=300, n_jobs=-1, total= 1.9min\n",
      "[CV] max_depth=60, max_features=5, min_samples_leaf=10, n_estimators=300, n_jobs=-1 \n",
      "[CV]  max_depth=30, max_features=10, min_samples_leaf=10, n_estimators=300, n_jobs=-1, total= 3.0min\n",
      "[CV] max_depth=60, max_features=5, min_samples_leaf=10, n_estimators=300, n_jobs=-1 \n",
      "[CV]  max_depth=60, max_features=5, min_samples_leaf=10, n_estimators=80, n_jobs=-1, total=  26.9s\n",
      "[CV] max_depth=60, max_features=10, min_samples_leaf=1, n_estimators=80, n_jobs=-1 \n",
      "[CV]  max_depth=60, max_features=5, min_samples_leaf=10, n_estimators=80, n_jobs=-1, total=  25.5s\n",
      "[CV] max_depth=60, max_features=10, min_samples_leaf=1, n_estimators=80, n_jobs=-1 \n",
      "[CV]  max_depth=60, max_features=5, min_samples_leaf=10, n_estimators=80, n_jobs=-1, total=  26.5s\n",
      "[CV] max_depth=60, max_features=10, min_samples_leaf=1, n_estimators=80, n_jobs=-1 \n",
      "[CV]  max_depth=60, max_features=5, min_samples_leaf=1, n_estimators=300, n_jobs=-1, total= 1.9min\n",
      "[CV] max_depth=60, max_features=10, min_samples_leaf=1, n_estimators=300, n_jobs=-1 \n",
      "[CV]  max_depth=60, max_features=10, min_samples_leaf=1, n_estimators=80, n_jobs=-1, total= 1.0min\n",
      "[CV] max_depth=60, max_features=10, min_samples_leaf=1, n_estimators=300, n_jobs=-1 \n",
      "[CV]  max_depth=60, max_features=10, min_samples_leaf=1, n_estimators=80, n_jobs=-1, total= 1.0min\n",
      "[CV] max_depth=60, max_features=10, min_samples_leaf=1, n_estimators=300, n_jobs=-1 \n",
      "[CV]  max_depth=60, max_features=10, min_samples_leaf=1, n_estimators=80, n_jobs=-1, total= 1.0min\n",
      "[CV] max_depth=60, max_features=10, min_samples_leaf=10, n_estimators=80, n_jobs=-1 \n",
      "[CV]  max_depth=60, max_features=5, min_samples_leaf=10, n_estimators=300, n_jobs=-1, total= 1.6min\n",
      "[CV] max_depth=60, max_features=10, min_samples_leaf=10, n_estimators=80, n_jobs=-1 \n",
      "[CV]  max_depth=60, max_features=5, min_samples_leaf=1, n_estimators=300, n_jobs=-1, total= 1.9min\n",
      "[CV] max_depth=60, max_features=10, min_samples_leaf=10, n_estimators=80, n_jobs=-1 \n",
      "[CV]  max_depth=60, max_features=5, min_samples_leaf=10, n_estimators=300, n_jobs=-1, total= 1.6min\n",
      "[CV] max_depth=60, max_features=10, min_samples_leaf=10, n_estimators=300, n_jobs=-1 \n",
      "[CV]  max_depth=60, max_features=5, min_samples_leaf=10, n_estimators=300, n_jobs=-1, total= 1.6min\n",
      "[CV] max_depth=60, max_features=10, min_samples_leaf=10, n_estimators=300, n_jobs=-1 \n",
      "[CV]  max_depth=60, max_features=10, min_samples_leaf=10, n_estimators=80, n_jobs=-1, total=  57.2s\n",
      "[CV] max_depth=60, max_features=10, min_samples_leaf=10, n_estimators=300, n_jobs=-1 \n",
      "[CV]  max_depth=60, max_features=10, min_samples_leaf=10, n_estimators=80, n_jobs=-1, total=  57.4s\n",
      "[CV]  max_depth=60, max_features=10, min_samples_leaf=10, n_estimators=80, n_jobs=-1, total=  57.9s\n",
      "[CV]  max_depth=60, max_features=10, min_samples_leaf=1, n_estimators=300, n_jobs=-1, total= 3.4min\n",
      "[CV]  max_depth=60, max_features=10, min_samples_leaf=10, n_estimators=300, n_jobs=-1, total= 2.6min\n",
      "[CV]  max_depth=60, max_features=10, min_samples_leaf=1, n_estimators=300, n_jobs=-1, total= 3.0min\n",
      "[CV]  max_depth=60, max_features=10, min_samples_leaf=1, n_estimators=300, n_jobs=-1, total= 3.0min\n",
      "[CV]  max_depth=60, max_features=10, min_samples_leaf=10, n_estimators=300, n_jobs=-1, total= 2.4min\n",
      "[CV]  max_depth=60, max_features=10, min_samples_leaf=10, n_estimators=300, n_jobs=-1, total= 2.1min\n"
     ]
    },
    {
     "name": "stderr",
     "output_type": "stream",
     "text": [
      "[Parallel(n_jobs=-1)]: Done  48 out of  48 | elapsed: 10.2min finished\n"
     ]
    },
    {
     "data": {
      "text/plain": [
       "GridSearchCV(cv=3, error_score='raise',\n",
       "       estimator=RandomForestClassifier(bootstrap=True, class_weight=None, criterion='gini',\n",
       "            max_depth=None, max_features='auto', max_leaf_nodes=None,\n",
       "            min_impurity_decrease=0.0, min_impurity_split=None,\n",
       "            min_samples_leaf=1, min_samples_split=2,\n",
       "            min_weight_fraction_leaf=0.0, n_estimators=10, n_jobs=1,\n",
       "            oob_score=False, random_state=None, verbose=0,\n",
       "            warm_start=False),\n",
       "       fit_params=None, iid=True, n_jobs=-1,\n",
       "       param_grid=[{'max_depth': [30, 60], 'n_estimators': [80, 300], 'max_features': [5, 10], 'min_samples_leaf': [1, 10], 'n_jobs': [-1]}],\n",
       "       pre_dispatch='2*n_jobs', refit=True, return_train_score='warn',\n",
       "       scoring='accuracy', verbose=2)"
      ]
     },
     "execution_count": 6,
     "metadata": {},
     "output_type": "execute_result"
    }
   ],
   "source": [
    "param_grid = [{'max_depth': [ 30, 60], \n",
    "               'n_estimators': [ 80, 300],\n",
    "               'max_features': [5, 10],\n",
    "               'min_samples_leaf': [1, 10],\n",
    "               'n_jobs': [-1]}]\n",
    "\n",
    "grid_search_rf = GridSearchCV(forest_clf, param_grid, cv=3, scoring='accuracy', verbose=2, n_jobs=-1)\n",
    "grid_search_rf.fit(X_train, y_train)"
   ]
  },
  {
   "cell_type": "code",
   "execution_count": 7,
   "metadata": {
    "scrolled": true
   },
   "outputs": [
    {
     "name": "stdout",
     "output_type": "stream",
     "text": [
      "0.780791245791 {'max_depth': 30, 'max_features': 5, 'min_samples_leaf': 1, 'n_estimators': 80, 'n_jobs': -1}\n",
      "0.783703703704 {'max_depth': 30, 'max_features': 5, 'min_samples_leaf': 1, 'n_estimators': 300, 'n_jobs': -1}\n",
      "0.791178451178 {'max_depth': 30, 'max_features': 5, 'min_samples_leaf': 10, 'n_estimators': 80, 'n_jobs': -1}\n",
      "0.791262626263 {'max_depth': 30, 'max_features': 5, 'min_samples_leaf': 10, 'n_estimators': 300, 'n_jobs': -1}\n",
      "0.78196969697 {'max_depth': 30, 'max_features': 10, 'min_samples_leaf': 1, 'n_estimators': 80, 'n_jobs': -1}\n",
      "0.783838383838 {'max_depth': 30, 'max_features': 10, 'min_samples_leaf': 1, 'n_estimators': 300, 'n_jobs': -1}\n",
      "0.790909090909 {'max_depth': 30, 'max_features': 10, 'min_samples_leaf': 10, 'n_estimators': 80, 'n_jobs': -1}\n",
      "0.792558922559 {'max_depth': 30, 'max_features': 10, 'min_samples_leaf': 10, 'n_estimators': 300, 'n_jobs': -1}\n",
      "0.778754208754 {'max_depth': 60, 'max_features': 5, 'min_samples_leaf': 1, 'n_estimators': 80, 'n_jobs': -1}\n",
      "0.781144781145 {'max_depth': 60, 'max_features': 5, 'min_samples_leaf': 1, 'n_estimators': 300, 'n_jobs': -1}\n",
      "0.789444444444 {'max_depth': 60, 'max_features': 5, 'min_samples_leaf': 10, 'n_estimators': 80, 'n_jobs': -1}\n",
      "0.791599326599 {'max_depth': 60, 'max_features': 5, 'min_samples_leaf': 10, 'n_estimators': 300, 'n_jobs': -1}\n",
      "0.779646464646 {'max_depth': 60, 'max_features': 10, 'min_samples_leaf': 1, 'n_estimators': 80, 'n_jobs': -1}\n",
      "0.781885521886 {'max_depth': 60, 'max_features': 10, 'min_samples_leaf': 1, 'n_estimators': 300, 'n_jobs': -1}\n",
      "0.791515151515 {'max_depth': 60, 'max_features': 10, 'min_samples_leaf': 10, 'n_estimators': 80, 'n_jobs': -1}\n",
      "0.792441077441 {'max_depth': 60, 'max_features': 10, 'min_samples_leaf': 10, 'n_estimators': 300, 'n_jobs': -1}\n"
     ]
    }
   ],
   "source": [
    "cvres = grid_search_rf.cv_results_\n",
    "for mean_score, params in zip(cvres[\"mean_test_score\"], cvres[\"params\"]):\n",
    "    print(mean_score, params)"
   ]
  },
  {
   "cell_type": "code",
   "execution_count": 8,
   "metadata": {},
   "outputs": [
    {
     "data": {
      "text/plain": [
       "{'max_depth': 30,\n",
       " 'max_features': 10,\n",
       " 'min_samples_leaf': 10,\n",
       " 'n_estimators': 300,\n",
       " 'n_jobs': -1}"
      ]
     },
     "execution_count": 8,
     "metadata": {},
     "output_type": "execute_result"
    }
   ],
   "source": [
    "grid_search_rf.best_params_"
   ]
  },
  {
   "cell_type": "code",
   "execution_count": 9,
   "metadata": {},
   "outputs": [],
   "source": [
    "pickle.dump(grid_search_rf, open('../models/grid_search_rf.sav', 'wb'))"
   ]
  },
  {
   "cell_type": "markdown",
   "metadata": {},
   "source": [
    "#### SGD Classifier\n",
    "Initial performance"
   ]
  },
  {
   "cell_type": "code",
   "execution_count": 10,
   "metadata": {},
   "outputs": [
    {
     "data": {
      "text/plain": [
       "array([ 0.72383838,  0.71590909,  0.72520202])"
      ]
     },
     "execution_count": 10,
     "metadata": {},
     "output_type": "execute_result"
    }
   ],
   "source": [
    "sgd_clf = SGDClassifier()\n",
    "cross_val_score(sgd_clf, X_train, y_train, cv=3, scoring=\"accuracy\")"
   ]
  },
  {
   "cell_type": "markdown",
   "metadata": {},
   "source": [
    "SGD Confusion Matrix"
   ]
  },
  {
   "cell_type": "code",
   "execution_count": 32,
   "metadata": {
    "collapsed": true
   },
   "outputs": [],
   "source": [
    "y_train_pred = cross_val_predict(sgd_clf, X_train, y_train, cv=3)"
   ]
  },
  {
   "cell_type": "code",
   "execution_count": 33,
   "metadata": {},
   "outputs": [
    {
     "data": {
      "image/png": "[encoded data removed]",
      "text/plain": [
       "<matplotlib.figure.Figure at 0x7fe3ebcb30b8>"
      ]
     },
     "metadata": {},
     "output_type": "display_data"
    }
   ],
   "source": [
    "conf_mx = confusion_matrix(y_train, y_train_pred)\n",
    "\n",
    "fig, ax = plt.subplots(figsize=(8, 8))\n",
    "ax.matshow(conf_mx, cmap=plt.cm.Blues, alpha=0.3)\n",
    "for i in range(conf_mx.shape[0]):\n",
    "    for j in range(conf_mx.shape[1]):\n",
    "        perc = str(round((conf_mx[i, j]/conf_mx.sum())*100,2)) + \"%\"\n",
    "        ax.text(x=j, y=i, s=str(conf_mx[i, j])+\"\\n\\n\"+perc, va='center', ha='center')\n",
    "\n",
    "plt.xlabel('predicted label')\n",
    "plt.ylabel('true label')\n",
    "\n",
    "plt.tight_layout()\n",
    "plt.show()"
   ]
  },
  {
   "cell_type": "code",
   "execution_count": 11,
   "metadata": {
    "scrolled": true
   },
   "outputs": [
    {
     "name": "stdout",
     "output_type": "stream",
     "text": [
      "Fitting 3 folds for each of 16 candidates, totalling 48 fits\n",
      "[CV] alpha=1e-05, loss=log, n_jobs=-1, penalty=none ..................\n",
      "[CV] alpha=1e-05, loss=log, n_jobs=-1, penalty=none ..................\n",
      "[CV] alpha=1e-05, loss=log, n_jobs=-1, penalty=none ..................\n",
      "[CV] alpha=1e-05, loss=log, n_jobs=-1, penalty=l2 ....................\n",
      "[CV] alpha=1e-05, loss=log, n_jobs=-1, penalty=l2 ....................\n",
      "[CV] ... alpha=1e-05, loss=log, n_jobs=-1, penalty=none, total=   0.3s\n",
      "[CV] alpha=1e-05, loss=log, n_jobs=-1, penalty=l2 ....................\n",
      "[CV] alpha=1e-05, loss=log, n_jobs=-1, penalty=l1 ....................\n",
      "[CV] alpha=1e-05, loss=log, n_jobs=-1, penalty=l1 ....................\n",
      "[CV] ... alpha=1e-05, loss=log, n_jobs=-1, penalty=none, total=   0.5s\n",
      "[CV] ... alpha=1e-05, loss=log, n_jobs=-1, penalty=none, total=   0.5s\n",
      "[CV] alpha=1e-05, loss=log, n_jobs=-1, penalty=l1 ....................\n",
      "[CV] ..... alpha=1e-05, loss=log, n_jobs=-1, penalty=l2, total=   0.5s\n",
      "[CV] alpha=1e-05, loss=log, n_jobs=-1, penalty=elasticnet ............\n",
      "[CV] alpha=1e-05, loss=log, n_jobs=-1, penalty=elasticnet ............\n",
      "[CV] ..... alpha=1e-05, loss=log, n_jobs=-1, penalty=l2, total=   0.6s\n",
      "[CV] ..... alpha=1e-05, loss=log, n_jobs=-1, penalty=l2, total=   0.6s\n",
      "[CV] alpha=1e-05, loss=log, n_jobs=-1, penalty=elasticnet ............\n",
      "[CV] alpha=0.0001, loss=log, n_jobs=-1, penalty=none .................\n",
      "[CV] alpha=0.0001, loss=log, n_jobs=-1, penalty=none .................\n",
      "[CV] ..... alpha=1e-05, loss=log, n_jobs=-1, penalty=l1, total=   0.8s\n",
      "[CV] ..... alpha=1e-05, loss=log, n_jobs=-1, penalty=l1, total=   0.9s\n",
      "[CV] alpha=0.0001, loss=log, n_jobs=-1, penalty=none .................\n",
      "[CV] alpha=0.0001, loss=log, n_jobs=-1, penalty=l2 ...................\n",
      "[CV] ..... alpha=1e-05, loss=log, n_jobs=-1, penalty=l1, total=   1.1s\n",
      "[CV]  alpha=1e-05, loss=log, n_jobs=-1, penalty=elasticnet, total=   1.0s\n",
      "[CV] alpha=0.0001, loss=log, n_jobs=-1, penalty=l2 ...................\n",
      "[CV]  alpha=1e-05, loss=log, n_jobs=-1, penalty=elasticnet, total=   1.1s\n",
      "[CV] alpha=0.0001, loss=log, n_jobs=-1, penalty=l2 ...................\n",
      "[CV] alpha=0.0001, loss=log, n_jobs=-1, penalty=l1 ...................\n",
      "[CV]  alpha=1e-05, loss=log, n_jobs=-1, penalty=elasticnet, total=   1.0s\n",
      "[CV] .. alpha=0.0001, loss=log, n_jobs=-1, penalty=none, total=   0.9s\n",
      "[CV] alpha=0.0001, loss=log, n_jobs=-1, penalty=l1 ...................\n",
      "[CV] .. alpha=0.0001, loss=log, n_jobs=-1, penalty=none, total=   0.8s\n",
      "[CV] .. alpha=0.0001, loss=log, n_jobs=-1, penalty=none, total=   0.6s\n",
      "[CV] alpha=0.0001, loss=log, n_jobs=-1, penalty=l1 ...................\n",
      "[CV] alpha=0.0001, loss=log, n_jobs=-1, penalty=elasticnet ...........\n",
      "[CV] .... alpha=0.0001, loss=log, n_jobs=-1, penalty=l2, total=   0.7s\n",
      "[CV] alpha=0.0001, loss=log, n_jobs=-1, penalty=elasticnet ...........\n",
      "[CV] alpha=0.0001, loss=log, n_jobs=-1, penalty=elasticnet ...........\n",
      "[CV] .... alpha=0.0001, loss=log, n_jobs=-1, penalty=l2, total=   0.7s\n",
      "[CV] alpha=0.001, loss=log, n_jobs=-1, penalty=none ..................\n",
      "[CV] .... alpha=0.0001, loss=log, n_jobs=-1, penalty=l2, total=   0.6s\n",
      "[CV] alpha=0.001, loss=log, n_jobs=-1, penalty=none ..................\n",
      "[CV] .... alpha=0.0001, loss=log, n_jobs=-1, penalty=l1, total=   1.1s\n",
      "[CV] .... alpha=0.0001, loss=log, n_jobs=-1, penalty=l1, total=   1.0s\n",
      "[CV] alpha=0.001, loss=log, n_jobs=-1, penalty=none ..................\n",
      "[CV] alpha=0.001, loss=log, n_jobs=-1, penalty=l2 ....................\n",
      "[CV] .... alpha=0.0001, loss=log, n_jobs=-1, penalty=l1, total=   1.0s\n",
      "[CV]  alpha=0.0001, loss=log, n_jobs=-1, penalty=elasticnet, total=   0.9s\n",
      "[CV] alpha=0.001, loss=log, n_jobs=-1, penalty=l2 ....................\n",
      "[CV] alpha=0.001, loss=log, n_jobs=-1, penalty=l2 ....................\n",
      "[CV]  alpha=0.0001, loss=log, n_jobs=-1, penalty=elasticnet, total=   0.9s\n",
      "[CV] ... alpha=0.001, loss=log, n_jobs=-1, penalty=none, total=   0.8s\n",
      "[CV] alpha=0.001, loss=log, n_jobs=-1, penalty=l1 ....................\n",
      "[CV]  alpha=0.0001, loss=log, n_jobs=-1, penalty=elasticnet, total=   1.0s\n",
      "[CV] alpha=0.001, loss=log, n_jobs=-1, penalty=l1 ....................\n",
      "[CV] alpha=0.001, loss=log, n_jobs=-1, penalty=l1 ....................\n",
      "[CV] ... alpha=0.001, loss=log, n_jobs=-1, penalty=none, total=   0.8s\n"
     ]
    },
    {
     "name": "stderr",
     "output_type": "stream",
     "text": [
      "[Parallel(n_jobs=-1)]: Done  25 tasks      | elapsed:    4.0s\n"
     ]
    },
    {
     "name": "stdout",
     "output_type": "stream",
     "text": [
      "[CV] alpha=0.001, loss=log, n_jobs=-1, penalty=elasticnet ............\n",
      "[CV] ..... alpha=0.001, loss=log, n_jobs=-1, penalty=l2, total=   0.7s\n",
      "[CV] ... alpha=0.001, loss=log, n_jobs=-1, penalty=none, total=   0.8s\n",
      "[CV] alpha=0.001, loss=log, n_jobs=-1, penalty=elasticnet ............\n",
      "[CV] alpha=0.001, loss=log, n_jobs=-1, penalty=elasticnet ............\n",
      "[CV] ..... alpha=0.001, loss=log, n_jobs=-1, penalty=l2, total=   0.6s\n",
      "[CV] ..... alpha=0.001, loss=log, n_jobs=-1, penalty=l2, total=   0.7s\n",
      "[CV] alpha=0.01, loss=log, n_jobs=-1, penalty=none ...................\n",
      "[CV] alpha=0.01, loss=log, n_jobs=-1, penalty=none ...................\n",
      "[CV] ..... alpha=0.001, loss=log, n_jobs=-1, penalty=l1, total=   1.1s\n",
      "[CV] alpha=0.01, loss=log, n_jobs=-1, penalty=none ...................\n",
      "[CV] ..... alpha=0.001, loss=log, n_jobs=-1, penalty=l1, total=   1.1s\n",
      "[CV] alpha=0.01, loss=log, n_jobs=-1, penalty=l2 .....................\n",
      "[CV]  alpha=0.001, loss=log, n_jobs=-1, penalty=elasticnet, total=   1.1s\n",
      "[CV] alpha=0.01, loss=log, n_jobs=-1, penalty=l2 .....................\n",
      "[CV] ..... alpha=0.001, loss=log, n_jobs=-1, penalty=l1, total=   1.1s\n",
      "[CV]  alpha=0.001, loss=log, n_jobs=-1, penalty=elasticnet, total=   1.0s\n",
      "[CV] alpha=0.01, loss=log, n_jobs=-1, penalty=l2 .....................\n",
      "[CV] alpha=0.01, loss=log, n_jobs=-1, penalty=l1 .....................\n",
      "[CV]  alpha=0.001, loss=log, n_jobs=-1, penalty=elasticnet, total=   1.1s\n",
      "[CV] .... alpha=0.01, loss=log, n_jobs=-1, penalty=none, total=   0.9s\n",
      "[CV] alpha=0.01, loss=log, n_jobs=-1, penalty=l1 .....................\n",
      "[CV] alpha=0.01, loss=log, n_jobs=-1, penalty=l1 .....................\n",
      "[CV] .... alpha=0.01, loss=log, n_jobs=-1, penalty=none, total=   0.8s\n",
      "[CV] alpha=0.01, loss=log, n_jobs=-1, penalty=elasticnet .............\n",
      "[CV] .... alpha=0.01, loss=log, n_jobs=-1, penalty=none, total=   0.7s\n",
      "[CV] alpha=0.01, loss=log, n_jobs=-1, penalty=elasticnet .............\n",
      "[CV] ...... alpha=0.01, loss=log, n_jobs=-1, penalty=l2, total=   0.7s\n",
      "[CV] alpha=0.01, loss=log, n_jobs=-1, penalty=elasticnet .............\n",
      "[CV] ...... alpha=0.01, loss=log, n_jobs=-1, penalty=l2, total=   0.7s\n",
      "[CV] ...... alpha=0.01, loss=log, n_jobs=-1, penalty=l2, total=   0.8s\n",
      "[CV] ...... alpha=0.01, loss=log, n_jobs=-1, penalty=l1, total=   1.2s\n",
      "[CV] ...... alpha=0.01, loss=log, n_jobs=-1, penalty=l1, total=   1.2s\n",
      "[CV] ...... alpha=0.01, loss=log, n_jobs=-1, penalty=l1, total=   1.1s\n",
      "[CV]  alpha=0.01, loss=log, n_jobs=-1, penalty=elasticnet, total=   0.9s\n",
      "[CV]  alpha=0.01, loss=log, n_jobs=-1, penalty=elasticnet, total=   1.0s\n",
      "[CV]  alpha=0.01, loss=log, n_jobs=-1, penalty=elasticnet, total=   0.9s\n"
     ]
    },
    {
     "name": "stderr",
     "output_type": "stream",
     "text": [
      "[Parallel(n_jobs=-1)]: Done  48 out of  48 | elapsed:    7.1s finished\n"
     ]
    },
    {
     "data": {
      "text/plain": [
       "GridSearchCV(cv=3, error_score='raise',\n",
       "       estimator=SGDClassifier(alpha=0.0001, average=False, class_weight=None, epsilon=0.1,\n",
       "       eta0=0.0, fit_intercept=True, l1_ratio=0.15,\n",
       "       learning_rate='optimal', loss='hinge', max_iter=None, n_iter=None,\n",
       "       n_jobs=1, penalty='l2', power_t=0.5, random_state=None,\n",
       "       shuffle=True, tol=None, verbose=0, warm_start=False),\n",
       "       fit_params=None, iid=True, n_jobs=-1,\n",
       "       param_grid=[{'penalty': ['none', 'l2', 'l1', 'elasticnet'], 'alpha': [1e-05, 0.0001, 0.001, 0.01], 'loss': ['log'], 'n_jobs': [-1]}],\n",
       "       pre_dispatch='2*n_jobs', refit=True, return_train_score='warn',\n",
       "       scoring='accuracy', verbose=2)"
      ]
     },
     "execution_count": 11,
     "metadata": {},
     "output_type": "execute_result"
    }
   ],
   "source": [
    "param_grid = [{'penalty': ['none', 'l2','l1','elasticnet'], \n",
    "               'alpha': [ 0.00001,  0.0001,  0.001,  0.01],\n",
    "               'loss': ['log'],\n",
    "               'n_jobs': [-1]}]\n",
    "\n",
    "grid_search_sgd = GridSearchCV(sgd_clf, param_grid, cv=3, scoring='accuracy', verbose=2, n_jobs=-1)\n",
    "grid_search_sgd.fit(X_train, y_train)"
   ]
  },
  {
   "cell_type": "code",
   "execution_count": 12,
   "metadata": {
    "scrolled": true
   },
   "outputs": [
    {
     "name": "stdout",
     "output_type": "stream",
     "text": [
      "0.657037037037 {'alpha': 1e-05, 'loss': 'log', 'n_jobs': -1, 'penalty': 'none'}\n",
      "0.699057239057 {'alpha': 1e-05, 'loss': 'log', 'n_jobs': -1, 'penalty': 'l2'}\n",
      "0.703097643098 {'alpha': 1e-05, 'loss': 'log', 'n_jobs': -1, 'penalty': 'l1'}\n",
      "0.701952861953 {'alpha': 1e-05, 'loss': 'log', 'n_jobs': -1, 'penalty': 'elasticnet'}\n",
      "0.731515151515 {'alpha': 0.0001, 'loss': 'log', 'n_jobs': -1, 'penalty': 'none'}\n",
      "0.730067340067 {'alpha': 0.0001, 'loss': 'log', 'n_jobs': -1, 'penalty': 'l2'}\n",
      "0.734208754209 {'alpha': 0.0001, 'loss': 'log', 'n_jobs': -1, 'penalty': 'l1'}\n",
      "0.734006734007 {'alpha': 0.0001, 'loss': 'log', 'n_jobs': -1, 'penalty': 'elasticnet'}\n",
      "0.73771043771 {'alpha': 0.001, 'loss': 'log', 'n_jobs': -1, 'penalty': 'none'}\n",
      "0.73595959596 {'alpha': 0.001, 'loss': 'log', 'n_jobs': -1, 'penalty': 'l2'}\n",
      "0.733434343434 {'alpha': 0.001, 'loss': 'log', 'n_jobs': -1, 'penalty': 'l1'}\n",
      "0.736902356902 {'alpha': 0.001, 'loss': 'log', 'n_jobs': -1, 'penalty': 'elasticnet'}\n",
      "0.736464646465 {'alpha': 0.01, 'loss': 'log', 'n_jobs': -1, 'penalty': 'none'}\n",
      "0.728569023569 {'alpha': 0.01, 'loss': 'log', 'n_jobs': -1, 'penalty': 'l2'}\n",
      "0.696599326599 {'alpha': 0.01, 'loss': 'log', 'n_jobs': -1, 'penalty': 'l1'}\n",
      "0.721683501684 {'alpha': 0.01, 'loss': 'log', 'n_jobs': -1, 'penalty': 'elasticnet'}\n"
     ]
    }
   ],
   "source": [
    "cvres = grid_search_sgd.cv_results_\n",
    "for mean_score, params in zip(cvres[\"mean_test_score\"], cvres[\"params\"]):\n",
    "    print(mean_score, params)"
   ]
  },
  {
   "cell_type": "code",
   "execution_count": 13,
   "metadata": {},
   "outputs": [
    {
     "data": {
      "text/plain": [
       "{'alpha': 0.001, 'loss': 'log', 'n_jobs': -1, 'penalty': 'none'}"
      ]
     },
     "execution_count": 13,
     "metadata": {},
     "output_type": "execute_result"
    }
   ],
   "source": [
    "grid_search_sgd.best_params_"
   ]
  },
  {
   "cell_type": "code",
   "execution_count": 14,
   "metadata": {},
   "outputs": [],
   "source": [
    "pickle.dump(grid_search_sgd, open('../models/grid_search_sgd.sav', 'wb'))"
   ]
  },
  {
   "cell_type": "markdown",
   "metadata": {},
   "source": [
    "#### K Nearest Neighbors\n",
    "Initial performance"
   ]
  },
  {
   "cell_type": "code",
   "execution_count": 15,
   "metadata": {},
   "outputs": [
    {
     "data": {
      "text/plain": [
       "array([ 0.77494949,  0.77121212,  0.7739899 ])"
      ]
     },
     "execution_count": 15,
     "metadata": {},
     "output_type": "execute_result"
    }
   ],
   "source": [
    "knn_clf = KNeighborsClassifier()\n",
    "cross_val_score(knn_clf, X_train, y_train, cv=3, scoring=\"accuracy\")"
   ]
  },
  {
   "cell_type": "markdown",
   "metadata": {},
   "source": [
    "KNN Confusion Matrix"
   ]
  },
  {
   "cell_type": "code",
   "execution_count": 40,
   "metadata": {
    "collapsed": true
   },
   "outputs": [],
   "source": [
    "y_train_pred = cross_val_predict(knn_clf, X_train, y_train, cv=3)"
   ]
  },
  {
   "cell_type": "code",
   "execution_count": 41,
   "metadata": {},
   "outputs": [
    {
     "data": {
      "image/png": "[encoded data removed]",
      "text/plain": [
       "<matplotlib.figure.Figure at 0x7fe3ebd58668>"
      ]
     },
     "metadata": {},
     "output_type": "display_data"
    }
   ],
   "source": [
    "conf_mx = confusion_matrix(y_train, y_train_pred)\n",
    "\n",
    "fig, ax = plt.subplots(figsize=(8, 8))\n",
    "ax.matshow(conf_mx, cmap=plt.cm.Blues, alpha=0.3)\n",
    "for i in range(conf_mx.shape[0]):\n",
    "    for j in range(conf_mx.shape[1]):\n",
    "        perc = str(round((conf_mx[i, j]/conf_mx.sum())*100,2)) + \"%\"\n",
    "        ax.text(x=j, y=i, s=str(conf_mx[i, j])+\"\\n\\n\"+perc, va='center', ha='center')\n",
    "\n",
    "plt.xlabel('predicted label')\n",
    "plt.ylabel('true label')\n",
    "\n",
    "plt.tight_layout()\n",
    "plt.show()"
   ]
  },
  {
   "cell_type": "code",
   "execution_count": 16,
   "metadata": {
    "scrolled": true
   },
   "outputs": [
    {
     "name": "stdout",
     "output_type": "stream",
     "text": [
      "Fitting 3 folds for each of 6 candidates, totalling 18 fits\n",
      "[CV] n_jobs=-1, n_neighbors=3, weights=uniform .......................\n",
      "[CV] n_jobs=-1, n_neighbors=3, weights=uniform .......................\n",
      "[CV] n_jobs=-1, n_neighbors=3, weights=uniform .......................\n",
      "[CV] n_jobs=-1, n_neighbors=3, weights=distance ......................\n",
      "[CV] n_jobs=-1, n_neighbors=3, weights=distance ......................\n",
      "[CV] n_jobs=-1, n_neighbors=3, weights=distance ......................\n",
      "[CV] n_jobs=-1, n_neighbors=5, weights=uniform .......................\n",
      "[CV] n_jobs=-1, n_neighbors=5, weights=uniform .......................\n",
      "[CV] ........ n_jobs=-1, n_neighbors=3, weights=uniform, total=  51.9s\n",
      "[CV] n_jobs=-1, n_neighbors=5, weights=uniform .......................\n",
      "[CV] ........ n_jobs=-1, n_neighbors=3, weights=uniform, total=  51.8s\n",
      "[CV] n_jobs=-1, n_neighbors=5, weights=distance ......................\n",
      "[CV] ....... n_jobs=-1, n_neighbors=3, weights=distance, total=  54.3s\n",
      "[CV] n_jobs=-1, n_neighbors=5, weights=distance ......................\n",
      "[CV] ....... n_jobs=-1, n_neighbors=3, weights=distance, total=  54.0s\n",
      "[CV] n_jobs=-1, n_neighbors=5, weights=distance ......................\n",
      "[CV] ....... n_jobs=-1, n_neighbors=3, weights=distance, total=  52.9s\n",
      "[CV] ........ n_jobs=-1, n_neighbors=3, weights=uniform, total=  53.4s\n",
      "[CV] n_jobs=-1, n_neighbors=10, weights=uniform ......................\n",
      "[CV] n_jobs=-1, n_neighbors=10, weights=uniform ......................\n",
      "[CV] ........ n_jobs=-1, n_neighbors=5, weights=uniform, total= 1.2min\n",
      "[CV] n_jobs=-1, n_neighbors=10, weights=uniform ......................\n",
      "[CV] ........ n_jobs=-1, n_neighbors=5, weights=uniform, total= 1.2min\n",
      "[CV] n_jobs=-1, n_neighbors=10, weights=distance .....................\n",
      "[CV] ........ n_jobs=-1, n_neighbors=5, weights=uniform, total= 1.2min\n",
      "[CV] n_jobs=-1, n_neighbors=10, weights=distance .....................\n",
      "[CV] ....... n_jobs=-1, n_neighbors=5, weights=distance, total= 1.2min\n",
      "[CV] n_jobs=-1, n_neighbors=10, weights=distance .....................\n",
      "[CV] ....... n_jobs=-1, n_neighbors=5, weights=distance, total= 1.2min\n",
      "[CV] ....... n_jobs=-1, n_neighbors=5, weights=distance, total= 1.2min\n",
      "[CV] ....... n_jobs=-1, n_neighbors=10, weights=uniform, total= 1.7min\n"
     ]
    },
    {
     "name": "stderr",
     "output_type": "stream",
     "text": [
      "[Parallel(n_jobs=-1)]: Done  13 out of  18 | elapsed:  6.6min remaining:  2.5min\n"
     ]
    },
    {
     "name": "stdout",
     "output_type": "stream",
     "text": [
      "[CV] ....... n_jobs=-1, n_neighbors=10, weights=uniform, total= 1.7min\n",
      "[CV] ....... n_jobs=-1, n_neighbors=10, weights=uniform, total= 1.8min\n",
      "[CV] ...... n_jobs=-1, n_neighbors=10, weights=distance, total= 1.9min\n",
      "[CV] ...... n_jobs=-1, n_neighbors=10, weights=distance, total= 1.3min\n",
      "[CV] ...... n_jobs=-1, n_neighbors=10, weights=distance, total= 1.2min\n"
     ]
    },
    {
     "name": "stderr",
     "output_type": "stream",
     "text": [
      "[Parallel(n_jobs=-1)]: Done  18 out of  18 | elapsed:  7.6min finished\n"
     ]
    },
    {
     "data": {
      "text/plain": [
       "GridSearchCV(cv=3, error_score='raise',\n",
       "       estimator=KNeighborsClassifier(algorithm='auto', leaf_size=30, metric='minkowski',\n",
       "           metric_params=None, n_jobs=1, n_neighbors=5, p=2,\n",
       "           weights='uniform'),\n",
       "       fit_params=None, iid=True, n_jobs=-1,\n",
       "       param_grid=[{'n_neighbors': [3, 5, 10], 'weights': ['uniform', 'distance'], 'n_jobs': [-1]}],\n",
       "       pre_dispatch='2*n_jobs', refit=True, return_train_score='warn',\n",
       "       scoring='accuracy', verbose=2)"
      ]
     },
     "execution_count": 16,
     "metadata": {},
     "output_type": "execute_result"
    }
   ],
   "source": [
    "param_grid = [{'n_neighbors': [ 3, 5, 10], \n",
    "               'weights': [ 'uniform',  'distance'],\n",
    "               'n_jobs': [-1]}]\n",
    "\n",
    "grid_search_knn = GridSearchCV(knn_clf, param_grid, cv=3, scoring='accuracy', verbose=2, n_jobs=-1)\n",
    "grid_search_knn.fit(X_train, y_train)"
   ]
  },
  {
   "cell_type": "code",
   "execution_count": 17,
   "metadata": {
    "scrolled": true
   },
   "outputs": [
    {
     "name": "stdout",
     "output_type": "stream",
     "text": [
      "0.771430976431 {'n_jobs': -1, 'n_neighbors': 3, 'weights': 'uniform'}\n",
      "0.766346801347 {'n_jobs': -1, 'n_neighbors': 3, 'weights': 'distance'}\n",
      "0.773383838384 {'n_jobs': -1, 'n_neighbors': 5, 'weights': 'uniform'}\n",
      "0.772575757576 {'n_jobs': -1, 'n_neighbors': 5, 'weights': 'distance'}\n",
      "0.768821548822 {'n_jobs': -1, 'n_neighbors': 10, 'weights': 'uniform'}\n",
      "0.777171717172 {'n_jobs': -1, 'n_neighbors': 10, 'weights': 'distance'}\n"
     ]
    }
   ],
   "source": [
    "cvres = grid_search_knn.cv_results_\n",
    "for mean_score, params in zip(cvres[\"mean_test_score\"], cvres[\"params\"]):\n",
    "    print(mean_score, params)"
   ]
  },
  {
   "cell_type": "code",
   "execution_count": 18,
   "metadata": {},
   "outputs": [
    {
     "data": {
      "text/plain": [
       "{'n_jobs': -1, 'n_neighbors': 10, 'weights': 'distance'}"
      ]
     },
     "execution_count": 18,
     "metadata": {},
     "output_type": "execute_result"
    }
   ],
   "source": [
    "grid_search_knn.best_params_"
   ]
  },
  {
   "cell_type": "code",
   "execution_count": 19,
   "metadata": {},
   "outputs": [],
   "source": [
    "pickle.dump(grid_search_knn, open('../models/grid_search_knn.sav', 'wb'))"
   ]
  },
  {
   "cell_type": "markdown",
   "metadata": {},
   "source": [
    "### Classification with XGBoost"
   ]
  },
  {
   "cell_type": "code",
   "execution_count": 20,
   "metadata": {
    "scrolled": true
   },
   "outputs": [
    {
     "name": "stdout",
     "output_type": "stream",
     "text": [
      "Fitting 3 folds for each of 12 candidates, totalling 36 fits\n",
      "[CV] learning_rate=0.01, max_depth=3, n_estimators=80 ................\n",
      "[CV] learning_rate=0.01, max_depth=3, n_estimators=80 ................\n",
      "[CV] learning_rate=0.01, max_depth=3, n_estimators=80 ................\n",
      "[CV] learning_rate=0.01, max_depth=3, n_estimators=300 ...............\n",
      "[CV] learning_rate=0.01, max_depth=3, n_estimators=300 ...............\n",
      "[CV] learning_rate=0.01, max_depth=3, n_estimators=300 ...............\n",
      "[CV] learning_rate=0.01, max_depth=10, n_estimators=80 ...............\n",
      "[CV] learning_rate=0.01, max_depth=10, n_estimators=80 ...............\n",
      "[CV] . learning_rate=0.01, max_depth=3, n_estimators=80, total= 2.2min\n",
      "[CV] learning_rate=0.01, max_depth=10, n_estimators=80 ...............\n",
      "[CV] . learning_rate=0.01, max_depth=3, n_estimators=80, total= 2.3min\n",
      "[CV] learning_rate=0.01, max_depth=10, n_estimators=300 ..............\n",
      "[CV] . learning_rate=0.01, max_depth=3, n_estimators=80, total= 2.3min\n",
      "[CV] learning_rate=0.01, max_depth=10, n_estimators=300 ..............\n",
      "[CV]  learning_rate=0.01, max_depth=3, n_estimators=300, total= 8.3min\n",
      "[CV] learning_rate=0.01, max_depth=10, n_estimators=300 ..............\n",
      "[CV]  learning_rate=0.01, max_depth=3, n_estimators=300, total= 8.5min\n",
      "[CV] learning_rate=0.1, max_depth=3, n_estimators=80 .................\n",
      "[CV]  learning_rate=0.01, max_depth=3, n_estimators=300, total= 8.5min\n",
      "[CV] learning_rate=0.1, max_depth=3, n_estimators=80 .................\n",
      "[CV] .. learning_rate=0.1, max_depth=3, n_estimators=80, total= 2.2min\n",
      "[CV] learning_rate=0.1, max_depth=3, n_estimators=80 .................\n",
      "[CV] .. learning_rate=0.1, max_depth=3, n_estimators=80, total= 2.3min\n",
      "[CV] learning_rate=0.1, max_depth=3, n_estimators=300 ................\n",
      "[CV]  learning_rate=0.01, max_depth=10, n_estimators=80, total=11.2min\n",
      "[CV] learning_rate=0.1, max_depth=3, n_estimators=300 ................\n",
      "[CV]  learning_rate=0.01, max_depth=10, n_estimators=80, total=11.2min\n",
      "[CV] learning_rate=0.1, max_depth=3, n_estimators=300 ................\n",
      "[CV] .. learning_rate=0.1, max_depth=3, n_estimators=80, total= 2.3min\n",
      "[CV] learning_rate=0.1, max_depth=10, n_estimators=80 ................\n",
      "[CV]  learning_rate=0.01, max_depth=10, n_estimators=80, total=11.3min\n",
      "[CV] learning_rate=0.1, max_depth=10, n_estimators=80 ................\n",
      "[CV] . learning_rate=0.1, max_depth=3, n_estimators=300, total= 8.3min\n",
      "[CV] learning_rate=0.1, max_depth=10, n_estimators=80 ................\n",
      "[CV] . learning_rate=0.1, max_depth=3, n_estimators=300, total= 8.2min\n",
      "[CV] learning_rate=0.1, max_depth=10, n_estimators=300 ...............\n",
      "[CV] . learning_rate=0.1, max_depth=3, n_estimators=300, total= 8.3min\n",
      "[CV] learning_rate=0.1, max_depth=10, n_estimators=300 ...............\n",
      "[CV] . learning_rate=0.1, max_depth=10, n_estimators=80, total=10.3min\n",
      "[CV] learning_rate=0.1, max_depth=10, n_estimators=300 ...............\n",
      "[CV] . learning_rate=0.1, max_depth=10, n_estimators=80, total=10.3min\n",
      "[CV] learning_rate=0.3, max_depth=3, n_estimators=80 .................\n",
      "[CV] .. learning_rate=0.3, max_depth=3, n_estimators=80, total= 2.2min\n",
      "[CV] learning_rate=0.3, max_depth=3, n_estimators=80 .................\n",
      "[CV] .. learning_rate=0.3, max_depth=3, n_estimators=80, total= 2.1min\n",
      "[CV] learning_rate=0.3, max_depth=3, n_estimators=80 .................\n",
      "[CV] . learning_rate=0.1, max_depth=10, n_estimators=80, total= 9.9min\n",
      "[CV] learning_rate=0.3, max_depth=3, n_estimators=300 ................\n",
      "[CV] .. learning_rate=0.3, max_depth=3, n_estimators=80, total= 2.1min\n",
      "[CV] learning_rate=0.3, max_depth=3, n_estimators=300 ................\n",
      "[CV] . learning_rate=0.3, max_depth=3, n_estimators=300, total= 7.7min\n",
      "[CV] learning_rate=0.3, max_depth=3, n_estimators=300 ................\n",
      "[CV] . learning_rate=0.3, max_depth=3, n_estimators=300, total= 7.6min\n",
      "[CV] learning_rate=0.3, max_depth=10, n_estimators=80 ................\n",
      "[CV]  learning_rate=0.01, max_depth=10, n_estimators=300, total=41.6min\n",
      "[CV] learning_rate=0.3, max_depth=10, n_estimators=80 ................\n",
      "[CV]  learning_rate=0.01, max_depth=10, n_estimators=300, total=42.0min\n",
      "[CV] learning_rate=0.3, max_depth=10, n_estimators=80 ................\n",
      "[CV] . learning_rate=0.3, max_depth=3, n_estimators=300, total= 7.7min\n",
      "[CV] learning_rate=0.3, max_depth=10, n_estimators=300 ...............\n",
      "[CV] . learning_rate=0.3, max_depth=10, n_estimators=80, total= 8.7min\n",
      "[CV] learning_rate=0.3, max_depth=10, n_estimators=300 ...............\n",
      "[CV]  learning_rate=0.01, max_depth=10, n_estimators=300, total=40.9min\n",
      "[CV] learning_rate=0.3, max_depth=10, n_estimators=300 ...............\n",
      "[CV]  learning_rate=0.1, max_depth=10, n_estimators=300, total=30.5min\n",
      "[CV]  learning_rate=0.1, max_depth=10, n_estimators=300, total=30.7min\n",
      "[CV] . learning_rate=0.3, max_depth=10, n_estimators=80, total= 7.8min\n",
      "[CV] . learning_rate=0.3, max_depth=10, n_estimators=80, total= 8.0min\n",
      "[CV]  learning_rate=0.1, max_depth=10, n_estimators=300, total=29.6min\n",
      "[CV]  learning_rate=0.3, max_depth=10, n_estimators=300, total=15.7min\n",
      "[CV]  learning_rate=0.3, max_depth=10, n_estimators=300, total=14.3min\n",
      "[CV]  learning_rate=0.3, max_depth=10, n_estimators=300, total=11.7min\n"
     ]
    },
    {
     "name": "stderr",
     "output_type": "stream",
     "text": [
      "[Parallel(n_jobs=-1)]: Done  36 out of  36 | elapsed: 61.2min finished\n"
     ]
    },
    {
     "data": {
      "text/plain": [
       "GridSearchCV(cv=3, error_score='raise',\n",
       "       estimator=XGBClassifier(base_score=0.5, colsample_bylevel=1, colsample_bytree=1,\n",
       "       gamma=0, learning_rate=0.1, max_delta_step=0, max_depth=3,\n",
       "       min_child_weight=1, missing=None, n_estimators=100, nthread=-1,\n",
       "       objective='binary:logistic', reg_alpha=0, reg_lambda=1,\n",
       "       scale_pos_weight=1, seed=0, silent=True, subsample=1),\n",
       "       fit_params=None, iid=True, n_jobs=-1,\n",
       "       param_grid=[{'max_depth': [3, 10], 'n_estimators': [80, 300], 'learning_rate': [0.01, 0.1, 0.3]}],\n",
       "       pre_dispatch='2*n_jobs', refit=True, return_train_score='warn',\n",
       "       scoring='accuracy', verbose=2)"
      ]
     },
     "execution_count": 20,
     "metadata": {},
     "output_type": "execute_result"
    }
   ],
   "source": [
    "param_grid = [{'max_depth': [ 3, 10], \n",
    "               'n_estimators': [ 80, 300],\n",
    "               'learning_rate': [0.01, 0.1, 0.3]}]\n",
    "\n",
    "gbm = xgb.XGBClassifier()\n",
    "grid_search_xgb = GridSearchCV(gbm, param_grid, cv=3, scoring='accuracy', verbose=2, n_jobs=-1)\n",
    "grid_search_xgb.fit(X_train, y_train)"
   ]
  },
  {
   "cell_type": "code",
   "execution_count": 21,
   "metadata": {},
   "outputs": [
    {
     "name": "stdout",
     "output_type": "stream",
     "text": [
      "0.675858585859 {'learning_rate': 0.01, 'max_depth': 3, 'n_estimators': 80}\n",
      "0.718872053872 {'learning_rate': 0.01, 'max_depth': 3, 'n_estimators': 300}\n",
      "0.773148148148 {'learning_rate': 0.01, 'max_depth': 10, 'n_estimators': 80}\n",
      "0.78771043771 {'learning_rate': 0.01, 'max_depth': 10, 'n_estimators': 300}\n",
      "0.745387205387 {'learning_rate': 0.1, 'max_depth': 3, 'n_estimators': 80}\n",
      "0.772861952862 {'learning_rate': 0.1, 'max_depth': 3, 'n_estimators': 300}\n",
      "0.792373737374 {'learning_rate': 0.1, 'max_depth': 10, 'n_estimators': 80}\n",
      "0.788484848485 {'learning_rate': 0.1, 'max_depth': 10, 'n_estimators': 300}\n",
      "0.767878787879 {'learning_rate': 0.3, 'max_depth': 3, 'n_estimators': 80}\n",
      "0.786262626263 {'learning_rate': 0.3, 'max_depth': 3, 'n_estimators': 300}\n",
      "0.786936026936 {'learning_rate': 0.3, 'max_depth': 10, 'n_estimators': 80}\n",
      "0.782121212121 {'learning_rate': 0.3, 'max_depth': 10, 'n_estimators': 300}\n"
     ]
    }
   ],
   "source": [
    "cvres = grid_search_xgb.cv_results_\n",
    "for mean_score, params in zip(cvres[\"mean_test_score\"], cvres[\"params\"]):\n",
    "    print(mean_score, params)"
   ]
  },
  {
   "cell_type": "code",
   "execution_count": 22,
   "metadata": {},
   "outputs": [
    {
     "data": {
      "text/plain": [
       "{'learning_rate': 0.1, 'max_depth': 10, 'n_estimators': 80}"
      ]
     },
     "execution_count": 22,
     "metadata": {},
     "output_type": "execute_result"
    }
   ],
   "source": [
    "grid_search_xgb.best_params_"
   ]
  },
  {
   "cell_type": "code",
   "execution_count": 23,
   "metadata": {},
   "outputs": [],
   "source": [
    "pickle.dump(grid_search_xgb, open('../models/grid_search_xgb.sav', 'wb'))"
   ]
  },
  {
   "cell_type": "markdown",
   "metadata": {},
   "source": [
    "Just a bit better than Random Forests, but the best so far nevertheless."
   ]
  },
  {
   "cell_type": "markdown",
   "metadata": {
    "collapsed": true
   },
   "source": [
    "### Ensembling\n",
    "\n",
    "Let's put together all the models shown above to see if we get a better result."
   ]
  },
  {
   "cell_type": "code",
   "execution_count": 24,
   "metadata": {
    "collapsed": true
   },
   "outputs": [],
   "source": [
    "sgd_clf = SGDClassifier(**grid_search_sgd.best_params_)\n",
    "rnd_clf = RandomForestClassifier(**grid_search_rf.best_params_)\n",
    "knn_clf = KNeighborsClassifier(**grid_search_knn.best_params_)\n",
    "log_clf = LogisticRegression(multi_class=\"multinomial\",solver=\"lbfgs\",C= 30, n_jobs=-1)\n",
    "#We'll skip SVM as they slow down too much the modelling times\n",
    "#svm_clf = SVC(C= 1, gamma= 0.1, decision_function_shape=\"ovr\", n_jobs=-1)\n",
    "dtr_clf = DecisionTreeClassifier(max_depth= 20, min_samples_split= 10)\n",
    "ada_clf = AdaBoostClassifier(DecisionTreeClassifier(max_depth=5), n_estimators=200, algorithm=\"SAMME.R\", \n",
    "                             learning_rate=0.5)\n",
    "gbrt_clf = GradientBoostingClassifier(max_depth=5, n_estimators=500, learning_rate=0.5)\n",
    "xgb_clf = xgb.XGBClassifier(**grid_search_xgb.best_params_)\n",
    "\n",
    "clfs = [sgd_clf,rnd_clf,knn_clf,log_clf,dtr_clf,ada_clf,gbrt_clf,xgb_clf]"
   ]
  },
  {
   "cell_type": "code",
   "execution_count": 25,
   "metadata": {},
   "outputs": [
    {
     "data": {
      "text/plain": [
       "VotingClassifier(estimators=[('SGD Classifier', SGDClassifier(alpha=0.001, average=False, class_weight=None, epsilon=0.1,\n",
       "       eta0=0.0, fit_intercept=True, l1_ratio=0.15,\n",
       "       learning_rate='optimal', loss='log', max_iter=None, n_iter=None,\n",
       "       n_jobs=-1, penalty='none', power_t=0.5, random_state=None,\n",
       "     ...logistic', reg_alpha=0, reg_lambda=1,\n",
       "       scale_pos_weight=1, seed=0, silent=True, subsample=1))],\n",
       "         flatten_transform=None, n_jobs=-1, voting='soft', weights=None)"
      ]
     },
     "execution_count": 25,
     "metadata": {},
     "output_type": "execute_result"
    }
   ],
   "source": [
    "voting_clf_ens_soft = VotingClassifier(\n",
    "    estimators=[('SGD Classifier', clfs[0]), \n",
    "                ('Random Forests', clfs[1]),\n",
    "                ('k-Nearest Neighbors', clfs[2]), \n",
    "                ('Softmax Regression', clfs[3]),\n",
    "                ('Decission Trees', clfs[4]), \n",
    "                ('AdaBoost', clfs[5]),\n",
    "                ('Gradient Boost', clfs[6]), \n",
    "                ('XGBoost', clfs[7])], \n",
    "                voting='soft', n_jobs=-1)\n",
    "voting_clf_ens_soft.fit(X_train, y_train)"
   ]
  },
  {
   "cell_type": "code",
   "execution_count": 26,
   "metadata": {},
   "outputs": [
    {
     "data": {
      "text/plain": [
       "0.79409090909090907"
      ]
     },
     "execution_count": 26,
     "metadata": {},
     "output_type": "execute_result"
    }
   ],
   "source": [
    "cv_results = cross_validate(voting_clf_ens_soft, X_train, y_train, cv = 3, scoring=\"accuracy\")\n",
    "\n",
    "pickle.dump(voting_clf_ens_soft, open('../models/voting_clf_ens_soft.sav', 'wb'))\n",
    "\n",
    "cv_results['test_score'].mean()"
   ]
  },
  {
   "cell_type": "markdown",
   "metadata": {},
   "source": [
    "Although slower, it doesn't seem to be a better model than just Random Forests optimized alone, is it probably the soft voting? Let's see"
   ]
  },
  {
   "cell_type": "code",
   "execution_count": 27,
   "metadata": {},
   "outputs": [
    {
     "data": {
      "text/plain": [
       "0.79282828282828277"
      ]
     },
     "execution_count": 27,
     "metadata": {},
     "output_type": "execute_result"
    }
   ],
   "source": [
    "voting_clf_ens_hard = VotingClassifier(\n",
    "    estimators=[('SGD Classifier', clfs[0]), \n",
    "                ('Random Forests', clfs[1]),\n",
    "                ('k-Nearest Neighbors', clfs[2]), \n",
    "                ('Softmax Regression', clfs[3]),\n",
    "                ('Decission Trees', clfs[4]), \n",
    "                ('AdaBoost', clfs[5]),\n",
    "                ('Gradient Boost', clfs[6]), \n",
    "                ('XGBoost', clfs[7])], \n",
    "                voting='hard', n_jobs=-1)\n",
    "voting_clf_ens_hard.fit(X_train, y_train)\n",
    "\n",
    "cv_results = cross_validate(voting_clf_ens_hard, X_train, y_train, cv = 3, scoring=\"accuracy\")\n",
    "\n",
    "pickle.dump(voting_clf_ens_hard, open('../models/voting_clf_ens_hard.sav', 'wb'))\n",
    "\n",
    "cv_results['test_score'].mean()"
   ]
  },
  {
   "cell_type": "markdown",
   "metadata": {},
   "source": [
    "Doesn't change much."
   ]
  },
  {
   "cell_type": "markdown",
   "metadata": {},
   "source": [
    "### Stacking\n",
    "\n",
    "Let's create a new model that decides the final label in a new second layer, taking as input the results of all the previous models."
   ]
  },
  {
   "cell_type": "code",
   "execution_count": 28,
   "metadata": {},
   "outputs": [
    {
     "data": {
      "text/plain": [
       "(59400, 100)"
      ]
     },
     "execution_count": 28,
     "metadata": {},
     "output_type": "execute_result"
    }
   ],
   "source": [
    "X_train.shape"
   ]
  },
  {
   "cell_type": "code",
   "execution_count": 29,
   "metadata": {},
   "outputs": [
    {
     "data": {
      "text/plain": [
       "((33000, 100), (13200, 100), (13200, 100))"
      ]
     },
     "execution_count": 29,
     "metadata": {},
     "output_type": "execute_result"
    }
   ],
   "source": [
    "idx = np.random.permutation(len(X_train))  # create shuffle index\n",
    "\n",
    "## split into three sets\n",
    "# training set\n",
    "Xtr = X_train[idx[:33000]]\n",
    "ytr = y_train[idx[:33000]]\n",
    "# validation set\n",
    "Xvl = X_train[idx[33000:46200]]\n",
    "yvl = y_train[idx[33000:46200]]\n",
    "# test set\n",
    "Xts = X_train[idx[46200:]]\n",
    "yts = y_train[idx[46200:]]\n",
    "\n",
    "Xtr.shape, Xvl.shape, Xts.shape"
   ]
  },
  {
   "cell_type": "code",
   "execution_count": 30,
   "metadata": {},
   "outputs": [
    {
     "name": "stdout",
     "output_type": "stream",
     "text": [
      "Fitted 1/8\n",
      "Fitted 2/8\n",
      "Fitted 3/8\n",
      "Fitted 4/8\n",
      "Fitted 5/8\n",
      "Fitted 6/8\n",
      "Fitted 7/8\n",
      "Fitted 8/8\n"
     ]
    }
   ],
   "source": [
    "for i, clf in enumerate(clfs):\n",
    "    clf.fit(Xtr, ytr)\n",
    "    print(\"Fitted {}/{}\".format(i+1,len(clfs)))"
   ]
  },
  {
   "cell_type": "code",
   "execution_count": 31,
   "metadata": {},
   "outputs": [
    {
     "name": "stdout",
     "output_type": "stream",
     "text": [
      "Predicted 1/8\n",
      "Predicted 2/8\n",
      "Predicted 3/8\n",
      "Predicted 4/8\n",
      "Predicted 5/8\n",
      "Predicted 6/8\n",
      "Predicted 7/8\n",
      "Predicted 8/8\n"
     ]
    }
   ],
   "source": [
    "# run individual classifiers on val set\n",
    "yhat = {}\n",
    "for i, clf in enumerate(clfs):\n",
    "    yhat[i] = clf.predict(Xvl)\n",
    "    print(\"Predicted {}/{}\".format(i+1,len(clfs)))"
   ]
  },
  {
   "cell_type": "code",
   "execution_count": 32,
   "metadata": {
    "collapsed": true
   },
   "outputs": [],
   "source": [
    "# create new training set from predictions\n",
    "# combine the predictions into vectors using a horizontal stacking\n",
    "Xblend = np.c_[[preds for preds in yhat.values()]].T"
   ]
  },
  {
   "cell_type": "code",
   "execution_count": 33,
   "metadata": {
    "collapsed": true
   },
   "outputs": [],
   "source": [
    "#Transform labels into codes\n",
    "le = preprocessing.LabelEncoder()\n",
    "Xblend = le.fit_transform(Xblend.reshape(13200*8)).reshape(13200,8)"
   ]
  },
  {
   "cell_type": "code",
   "execution_count": 34,
   "metadata": {},
   "outputs": [
    {
     "data": {
      "text/plain": [
       "RandomForestClassifier(bootstrap=True, class_weight=None, criterion='gini',\n",
       "            max_depth=None, max_features='auto', max_leaf_nodes=None,\n",
       "            min_impurity_decrease=0.0, min_impurity_split=None,\n",
       "            min_samples_leaf=1, min_samples_split=2,\n",
       "            min_weight_fraction_leaf=0.0, n_estimators=100, n_jobs=-1,\n",
       "            oob_score=False, random_state=None, verbose=0,\n",
       "            warm_start=False)"
      ]
     },
     "execution_count": 34,
     "metadata": {},
     "output_type": "execute_result"
    }
   ],
   "source": [
    "# train a random forest classifier on Xblend using yvl for target labels\n",
    "rf_blend = RandomForestClassifier(n_estimators=100, n_jobs=-1)\n",
    "rf_blend.fit(Xblend, yvl)"
   ]
  },
  {
   "cell_type": "code",
   "execution_count": 35,
   "metadata": {},
   "outputs": [
    {
     "data": {
      "text/plain": [
       "0.78871156551195165"
      ]
     },
     "execution_count": 35,
     "metadata": {},
     "output_type": "execute_result"
    }
   ],
   "source": [
    "cv_results = cross_validate(rf_blend, Xblend, yvl, cv = 3, scoring=\"accuracy\")\n",
    "\n",
    "pickle.dump(rf_blend, open('../models/rf_blend.sav', 'wb'))\n",
    "\n",
    "cv_results['test_score'].mean()"
   ]
  },
  {
   "cell_type": "markdown",
   "metadata": {},
   "source": [
    "Let's see how this behaves with an unseen dataset"
   ]
  },
  {
   "cell_type": "code",
   "execution_count": 36,
   "metadata": {},
   "outputs": [
    {
     "name": "stdout",
     "output_type": "stream",
     "text": [
      "Predicted 1/8\n",
      "Predicted 2/8\n",
      "Predicted 3/8\n",
      "Predicted 4/8\n",
      "Predicted 5/8\n",
      "Predicted 6/8\n",
      "Predicted 7/8\n",
      "Predicted 8/8\n"
     ]
    }
   ],
   "source": [
    "# run individual classifiers on test set\n",
    "yhatts = {}\n",
    "for i, clf in enumerate(clfs):\n",
    "    yhatts[i] = clf.predict(Xts)\n",
    "    print(\"Predicted {}/{}\".format(i+1,len(clfs)))"
   ]
  },
  {
   "cell_type": "code",
   "execution_count": 37,
   "metadata": {},
   "outputs": [
    {
     "data": {
      "text/plain": [
       "0.78712144581143206"
      ]
     },
     "execution_count": 37,
     "metadata": {},
     "output_type": "execute_result"
    }
   ],
   "source": [
    "Xblendts = np.c_[[preds for preds in yhatts.values()]].T\n",
    "\n",
    "Xblendts = le.transform(Xblendts.reshape(13200*8)).reshape(13200,8)\n",
    "\n",
    "cv_results = cross_validate(rf_blend, Xblendts, yts, cv = 3, scoring=\"accuracy\")\n",
    "cv_results['test_score'].mean()"
   ]
  },
  {
   "cell_type": "markdown",
   "metadata": {},
   "source": [
    "Finally, in this exercise, nothing beats Random Forests and XGBoost."
   ]
  },
  {
   "cell_type": "markdown",
   "metadata": {
    "collapsed": true
   },
   "source": [
    "### Ensembling RF and XGB"
   ]
  },
  {
   "cell_type": "code",
   "execution_count": 38,
   "metadata": {
    "collapsed": true
   },
   "outputs": [],
   "source": [
    "rnd_clf = RandomForestClassifier(**grid_search_rf.best_params_)\n",
    "xgb_clf = xgb.XGBClassifier(**grid_search_xgb.best_params_)\n",
    "\n",
    "clfs = [rnd_clf,xgb_clf]"
   ]
  },
  {
   "cell_type": "code",
   "execution_count": 39,
   "metadata": {},
   "outputs": [
    {
     "data": {
      "text/plain": [
       "VotingClassifier(estimators=[('Random Forests', RandomForestClassifier(bootstrap=True, class_weight=None, criterion='gini',\n",
       "            max_depth=30, max_features=10, max_leaf_nodes=None,\n",
       "            min_impurity_decrease=0.0, min_impurity_split=None,\n",
       "            min_samples_leaf=10, min_samples_split=2,\n",
       "           ...logistic', reg_alpha=0, reg_lambda=1,\n",
       "       scale_pos_weight=1, seed=0, silent=True, subsample=1))],\n",
       "         flatten_transform=None, n_jobs=-1, voting='soft', weights=None)"
      ]
     },
     "execution_count": 39,
     "metadata": {},
     "output_type": "execute_result"
    }
   ],
   "source": [
    "voting_clf_ens_rfxgb = VotingClassifier(\n",
    "    estimators=[('Random Forests', clfs[0]),\n",
    "                ('XGBoost', clfs[1])], \n",
    "                voting='soft', n_jobs=-1)\n",
    "voting_clf_ens_rfxgb.fit(X_train, y_train)"
   ]
  },
  {
   "cell_type": "code",
   "execution_count": 40,
   "metadata": {},
   "outputs": [
    {
     "data": {
      "text/plain": [
       "0.79545454545454541"
      ]
     },
     "execution_count": 40,
     "metadata": {},
     "output_type": "execute_result"
    }
   ],
   "source": [
    "cv_results = cross_validate(voting_clf_ens_rfxgb, X_train, y_train, cv = 3, scoring=\"accuracy\")\n",
    "\n",
    "pickle.dump(voting_clf_ens_rfxgb, open('../models/voting_clf_ens_rfxgb.sav', 'wb'))\n",
    "\n",
    "cv_results['test_score'].mean()"
   ]
  },
  {
   "cell_type": "markdown",
   "metadata": {},
   "source": [
    "This is the best result so far!"
   ]
  },
  {
   "cell_type": "markdown",
   "metadata": {},
   "source": [
    "#### Stacking RF and XGB\n",
    "We have to be specially careful here to not overfit the RF classifier."
   ]
  },
  {
   "cell_type": "code",
   "execution_count": 41,
   "metadata": {},
   "outputs": [
    {
     "data": {
      "text/plain": [
       "((33000, 100), (13200, 100), (13200, 100))"
      ]
     },
     "execution_count": 41,
     "metadata": {},
     "output_type": "execute_result"
    }
   ],
   "source": [
    "idx = np.random.permutation(len(X_train))  # create shuffle index\n",
    "\n",
    "## split into three sets\n",
    "# training set\n",
    "Xtr = X_train[idx[:33000]]\n",
    "ytr = y_train[idx[:33000]]\n",
    "# validation set\n",
    "Xvl = X_train[idx[33000:46200]]\n",
    "yvl = y_train[idx[33000:46200]]\n",
    "# test set\n",
    "Xts = X_train[idx[46200:]]\n",
    "yts = y_train[idx[46200:]]\n",
    "\n",
    "Xtr.shape, Xvl.shape, Xts.shape"
   ]
  },
  {
   "cell_type": "code",
   "execution_count": 42,
   "metadata": {},
   "outputs": [
    {
     "name": "stdout",
     "output_type": "stream",
     "text": [
      "Fitted 1/2\n",
      "Fitted 2/2\n"
     ]
    }
   ],
   "source": [
    "for i, clf in enumerate(clfs):\n",
    "    clf.fit(Xtr, ytr)\n",
    "    print(\"Fitted {}/{}\".format(i+1,len(clfs)))"
   ]
  },
  {
   "cell_type": "code",
   "execution_count": 43,
   "metadata": {},
   "outputs": [
    {
     "name": "stdout",
     "output_type": "stream",
     "text": [
      "Predicted 1/2\n",
      "Predicted 2/2\n"
     ]
    }
   ],
   "source": [
    "# run individual classifiers on val set\n",
    "yhat = {}\n",
    "for i, clf in enumerate(clfs):\n",
    "    yhat[i] = clf.predict(Xvl)\n",
    "    print(\"Predicted {}/{}\".format(i+1,len(clfs)))"
   ]
  },
  {
   "cell_type": "code",
   "execution_count": 44,
   "metadata": {
    "collapsed": true
   },
   "outputs": [],
   "source": [
    "# create new training set from predictions\n",
    "# combine the predictions into vectors using a horizontal stacking\n",
    "Xblend = np.c_[[preds for preds in yhat.values()]].T"
   ]
  },
  {
   "cell_type": "code",
   "execution_count": 45,
   "metadata": {
    "collapsed": true
   },
   "outputs": [],
   "source": [
    "#Transform labels into codes\n",
    "le = preprocessing.LabelEncoder()\n",
    "Xblend = le.fit_transform(Xblend.reshape(13200*2)).reshape(13200,2)"
   ]
  },
  {
   "cell_type": "code",
   "execution_count": 46,
   "metadata": {},
   "outputs": [
    {
     "data": {
      "text/plain": [
       "RandomForestClassifier(bootstrap=True, class_weight=None, criterion='gini',\n",
       "            max_depth=None, max_features='auto', max_leaf_nodes=None,\n",
       "            min_impurity_decrease=0.0, min_impurity_split=None,\n",
       "            min_samples_leaf=1, min_samples_split=2,\n",
       "            min_weight_fraction_leaf=0.0, n_estimators=300, n_jobs=-1,\n",
       "            oob_score=False, random_state=None, verbose=0,\n",
       "            warm_start=False)"
      ]
     },
     "execution_count": 46,
     "metadata": {},
     "output_type": "execute_result"
    }
   ],
   "source": [
    "# train a random forest classifier on Xblend using yvl for target labels\n",
    "rf_blend = RandomForestClassifier(n_estimators=300, n_jobs=-1)\n",
    "rf_blend.fit(Xblend, yvl)"
   ]
  },
  {
   "cell_type": "code",
   "execution_count": 47,
   "metadata": {},
   "outputs": [
    {
     "data": {
      "text/plain": [
       "0.79030395539966347"
      ]
     },
     "execution_count": 47,
     "metadata": {},
     "output_type": "execute_result"
    }
   ],
   "source": [
    "cv_results = cross_validate(rf_blend, Xblend, yvl, cv = 3, scoring=\"accuracy\")\n",
    "\n",
    "pickle.dump(rf_blend, open('../models/rf_blend.sav', 'wb'))\n",
    "\n",
    "cv_results['test_score'].mean()"
   ]
  },
  {
   "cell_type": "markdown",
   "metadata": {},
   "source": [
    "Let's see how this behaves with an unseen dataset"
   ]
  },
  {
   "cell_type": "code",
   "execution_count": 48,
   "metadata": {},
   "outputs": [
    {
     "name": "stdout",
     "output_type": "stream",
     "text": [
      "Predicted 1/2\n",
      "Predicted 2/2\n"
     ]
    }
   ],
   "source": [
    "# run individual classifiers on test set\n",
    "yhatts = {}\n",
    "for i, clf in enumerate(clfs):\n",
    "    yhatts[i] = clf.predict(Xts)\n",
    "    print(\"Predicted {}/{}\".format(i+1,len(clfs)))"
   ]
  },
  {
   "cell_type": "code",
   "execution_count": 49,
   "metadata": {},
   "outputs": [
    {
     "data": {
      "text/plain": [
       "0.79325619389284696"
      ]
     },
     "execution_count": 49,
     "metadata": {},
     "output_type": "execute_result"
    }
   ],
   "source": [
    "Xblendts = np.c_[[preds for preds in yhatts.values()]].T\n",
    "\n",
    "Xblendts = le.transform(Xblendts.reshape(13200*2)).reshape(13200,2)\n",
    "\n",
    "cv_results = cross_validate(rf_blend, Xblendts, yts, cv = 3, scoring=\"accuracy\")\n",
    "cv_results['test_score'].mean()"
   ]
  },
  {
   "cell_type": "markdown",
   "metadata": {},
   "source": [
    "#### Finally, it seems that the best result were obtained with an RF and XGBoost ensemble. Let's use this model to make the final predictions and submission file creation."
   ]
  },
  {
   "cell_type": "code",
   "execution_count": 82,
   "metadata": {},
   "outputs": [
    {
     "data": {
      "text/html": [
       "<div>\n",
       "<style>\n",
       "    .dataframe thead tr:only-child th {\n",
       "        text-align: right;\n",
       "    }\n",
       "\n",
       "    .dataframe thead th {\n",
       "        text-align: left;\n",
       "    }\n",
       "\n",
       "    .dataframe tbody tr th {\n",
       "        vertical-align: top;\n",
       "    }\n",
       "</style>\n",
       "<table border=\"1\" class=\"dataframe\">\n",
       "  <thead>\n",
       "    <tr style=\"text-align: right;\">\n",
       "      <th></th>\n",
       "      <th>id</th>\n",
       "      <th>status_group</th>\n",
       "    </tr>\n",
       "  </thead>\n",
       "  <tbody>\n",
       "    <tr>\n",
       "      <th>0</th>\n",
       "      <td>50785</td>\n",
       "      <td>predicted label</td>\n",
       "    </tr>\n",
       "    <tr>\n",
       "      <th>1</th>\n",
       "      <td>51630</td>\n",
       "      <td>predicted label</td>\n",
       "    </tr>\n",
       "    <tr>\n",
       "      <th>2</th>\n",
       "      <td>17168</td>\n",
       "      <td>predicted label</td>\n",
       "    </tr>\n",
       "    <tr>\n",
       "      <th>3</th>\n",
       "      <td>45559</td>\n",
       "      <td>predicted label</td>\n",
       "    </tr>\n",
       "    <tr>\n",
       "      <th>4</th>\n",
       "      <td>49871</td>\n",
       "      <td>predicted label</td>\n",
       "    </tr>\n",
       "  </tbody>\n",
       "</table>\n",
       "</div>"
      ],
      "text/plain": [
       "      id     status_group\n",
       "0  50785  predicted label\n",
       "1  51630  predicted label\n",
       "2  17168  predicted label\n",
       "3  45559  predicted label\n",
       "4  49871  predicted label"
      ]
     },
     "execution_count": 82,
     "metadata": {},
     "output_type": "execute_result"
    }
   ],
   "source": [
    "SubmissionFormat.head()"
   ]
  },
  {
   "cell_type": "code",
   "execution_count": 83,
   "metadata": {
    "collapsed": true
   },
   "outputs": [],
   "source": [
    "preds = voting_clf_ens_rfxgb.predict(X_test)"
   ]
  },
  {
   "cell_type": "code",
   "execution_count": 84,
   "metadata": {},
   "outputs": [
    {
     "data": {
      "text/plain": [
       "(14850,)"
      ]
     },
     "execution_count": 84,
     "metadata": {},
     "output_type": "execute_result"
    }
   ],
   "source": [
    "preds.shape"
   ]
  },
  {
   "cell_type": "code",
   "execution_count": 85,
   "metadata": {
    "collapsed": true
   },
   "outputs": [],
   "source": [
    "submission = pd.DataFrame({'id': SubmissionFormat[\"id\"],'status_group': preds})\n",
    "submission.to_csv('../data/processed/submission.csv', index=False)"
   ]
  }
 ],
 "metadata": {
  "kernelspec": {
   "display_name": "Python 3",
   "language": "python",
   "name": "python3"
  },
  "language_info": {
   "codemirror_mode": {
    "name": "ipython",
    "version": 3
   },
   "file_extension": ".py",
   "mimetype": "text/x-python",
   "name": "python",
   "nbconvert_exporter": "python",
   "pygments_lexer": "ipython3",
   "version": "3.6.1"
  }
 },
 "nbformat": 4,
 "nbformat_minor": 2
}
